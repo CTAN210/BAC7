{
 "cells": [
  {
   "cell_type": "code",
   "execution_count": 17,
   "metadata": {},
   "outputs": [],
   "source": [
    "import pandas as pd\n",
    "import seaborn as sb\n",
    "import pylab as py\n",
    "import numpy as np\n",
    "import matplotlib.pyplot as plt\n",
    "import plotly.express as px\n",
    "import folium\n",
    "from folium import plugins\n",
    "from geopy.geocoders import Nominatim\n",
    "import datetime\n",
    "import statsmodels.api as sm\n",
    "import statsmodels.stats as st\n",
    "import scipy.stats as sp\n",
    "from statsmodels.graphics.gofplots import ProbPlot\n",
    "from statsmodels.stats.diagnostic import het_goldfeldquandt"
   ]
  },
  {
   "cell_type": "code",
   "execution_count": 46,
   "metadata": {},
   "outputs": [
    {
     "data": {
      "text/html": [
       "<div>\n",
       "<style scoped>\n",
       "    .dataframe tbody tr th:only-of-type {\n",
       "        vertical-align: middle;\n",
       "    }\n",
       "\n",
       "    .dataframe tbody tr th {\n",
       "        vertical-align: top;\n",
       "    }\n",
       "\n",
       "    .dataframe thead th {\n",
       "        text-align: right;\n",
       "    }\n",
       "</style>\n",
       "<table border=\"1\" class=\"dataframe\">\n",
       "  <thead>\n",
       "    <tr style=\"text-align: right;\">\n",
       "      <th></th>\n",
       "      <th>Yearly Microplastics Emission</th>\n",
       "      <th>Mean BMI (female)</th>\n",
       "      <th>AlcAmt</th>\n",
       "      <th>Cig/Adult</th>\n",
       "      <th>MedianAge</th>\n",
       "      <th>FirstChildAge</th>\n",
       "      <th>Reproductive Life Span</th>\n",
       "    </tr>\n",
       "  </thead>\n",
       "  <tbody>\n",
       "    <tr>\n",
       "      <td>0</td>\n",
       "      <td>1400</td>\n",
       "      <td>23.267170</td>\n",
       "      <td>747.230</td>\n",
       "      <td>2408.999965</td>\n",
       "      <td>23.724996</td>\n",
       "      <td>24.740000</td>\n",
       "      <td>35.785938</td>\n",
       "    </tr>\n",
       "    <tr>\n",
       "      <td>1</td>\n",
       "      <td>1500</td>\n",
       "      <td>23.372925</td>\n",
       "      <td>784.310</td>\n",
       "      <td>2609.750035</td>\n",
       "      <td>23.907336</td>\n",
       "      <td>25.000000</td>\n",
       "      <td>35.823044</td>\n",
       "    </tr>\n",
       "    <tr>\n",
       "      <td>2</td>\n",
       "      <td>1800</td>\n",
       "      <td>23.451368</td>\n",
       "      <td>787.020</td>\n",
       "      <td>2701.000035</td>\n",
       "      <td>24.089675</td>\n",
       "      <td>25.133333</td>\n",
       "      <td>35.860151</td>\n",
       "    </tr>\n",
       "    <tr>\n",
       "      <td>3</td>\n",
       "      <td>2000</td>\n",
       "      <td>23.547950</td>\n",
       "      <td>796.570</td>\n",
       "      <td>2536.750017</td>\n",
       "      <td>24.272015</td>\n",
       "      <td>25.366667</td>\n",
       "      <td>35.897257</td>\n",
       "    </tr>\n",
       "    <tr>\n",
       "      <td>4</td>\n",
       "      <td>2200</td>\n",
       "      <td>23.648248</td>\n",
       "      <td>796.565</td>\n",
       "      <td>2682.749965</td>\n",
       "      <td>24.454354</td>\n",
       "      <td>25.250000</td>\n",
       "      <td>35.934363</td>\n",
       "    </tr>\n",
       "  </tbody>\n",
       "</table>\n",
       "</div>"
      ],
      "text/plain": [
       "   Yearly Microplastics Emission  Mean BMI (female)   AlcAmt    Cig/Adult  \\\n",
       "0                           1400          23.267170  747.230  2408.999965   \n",
       "1                           1500          23.372925  784.310  2609.750035   \n",
       "2                           1800          23.451368  787.020  2701.000035   \n",
       "3                           2000          23.547950  796.570  2536.750017   \n",
       "4                           2200          23.648248  796.565  2682.749965   \n",
       "\n",
       "   MedianAge  FirstChildAge  Reproductive Life Span  \n",
       "0  23.724996      24.740000               35.785938  \n",
       "1  23.907336      25.000000               35.823044  \n",
       "2  24.089675      25.133333               35.860151  \n",
       "3  24.272015      25.366667               35.897257  \n",
       "4  24.454354      25.250000               35.934363  "
      ]
     },
     "execution_count": 46,
     "metadata": {},
     "output_type": "execute_result"
    }
   ],
   "source": [
    "df = pd.read_csv('combined.csv')\n",
    "df.head()"
   ]
  },
  {
   "cell_type": "code",
   "execution_count": 47,
   "metadata": {},
   "outputs": [
    {
     "data": {
      "text/html": [
       "<div>\n",
       "<style scoped>\n",
       "    .dataframe tbody tr th:only-of-type {\n",
       "        vertical-align: middle;\n",
       "    }\n",
       "\n",
       "    .dataframe tbody tr th {\n",
       "        vertical-align: top;\n",
       "    }\n",
       "\n",
       "    .dataframe thead th {\n",
       "        text-align: right;\n",
       "    }\n",
       "</style>\n",
       "<table border=\"1\" class=\"dataframe\">\n",
       "  <thead>\n",
       "    <tr style=\"text-align: right;\">\n",
       "      <th></th>\n",
       "      <th>Year</th>\n",
       "      <th>Cancer Rate</th>\n",
       "    </tr>\n",
       "  </thead>\n",
       "  <tbody>\n",
       "    <tr>\n",
       "      <td>0</td>\n",
       "      <td>1980</td>\n",
       "      <td>0.069059</td>\n",
       "    </tr>\n",
       "    <tr>\n",
       "      <td>1</td>\n",
       "      <td>1981</td>\n",
       "      <td>0.069346</td>\n",
       "    </tr>\n",
       "    <tr>\n",
       "      <td>2</td>\n",
       "      <td>1982</td>\n",
       "      <td>0.075905</td>\n",
       "    </tr>\n",
       "    <tr>\n",
       "      <td>3</td>\n",
       "      <td>1983</td>\n",
       "      <td>0.090922</td>\n",
       "    </tr>\n",
       "    <tr>\n",
       "      <td>4</td>\n",
       "      <td>1984</td>\n",
       "      <td>0.092270</td>\n",
       "    </tr>\n",
       "  </tbody>\n",
       "</table>\n",
       "</div>"
      ],
      "text/plain": [
       "   Year  Cancer Rate\n",
       "0  1980     0.069059\n",
       "1  1981     0.069346\n",
       "2  1982     0.075905\n",
       "3  1983     0.090922\n",
       "4  1984     0.092270"
      ]
     },
     "execution_count": 47,
     "metadata": {},
     "output_type": "execute_result"
    }
   ],
   "source": [
    "df_female = pd.read_csv(\"female-pop.csv\")\n",
    "df_female = df_female.groupby(\"Year\").sum()\n",
    "df_female = df_female.reset_index()\n",
    "df_female = df_female.loc[(df_female['Year'] >= 1980) & (df_female['Year'] <= 2010)]\n",
    "df_female = df_female.reset_index()\n",
    "df_female = df_female.drop(columns = [\"index\"])\n",
    "df_female.head()\n",
    "\n",
    "df_cancer = pd.read_csv('cancer.csv')\n",
    "df_cancer = df_cancer.loc[(df_cancer['Year'] >= 1980) & (df_cancer['Year'] <= 2010)]\n",
    "df_cancer['Cancer Rate'] = df_cancer.sum(axis=1) - df_cancer[\"Year\"]\n",
    "df_cancer = df_cancer.reset_index()\n",
    "df_cancer = df_cancer.drop(columns = [\"index\"])\n",
    "df_cancer = pd.concat([df_cancer['Year'], df_cancer['Cancer Rate']], axis = 1)\n",
    "df_cancer[\"Cancer Rate\"] = df_cancer[\"Cancer Rate\"]/ df_female[\"PopFemale\"] *100\n",
    "# df_cancer[\"Cancer Rate\"] = df_cancer[\"Cancer Rate\"] * 0.3\n",
    "df_cancer.head()"
   ]
  },
  {
   "cell_type": "code",
   "execution_count": 170,
   "metadata": {},
   "outputs": [
    {
     "data": {
      "text/html": [
       "<div>\n",
       "<style scoped>\n",
       "    .dataframe tbody tr th:only-of-type {\n",
       "        vertical-align: middle;\n",
       "    }\n",
       "\n",
       "    .dataframe tbody tr th {\n",
       "        vertical-align: top;\n",
       "    }\n",
       "\n",
       "    .dataframe thead th {\n",
       "        text-align: right;\n",
       "    }\n",
       "</style>\n",
       "<table border=\"1\" class=\"dataframe\">\n",
       "  <thead>\n",
       "    <tr style=\"text-align: right;\">\n",
       "      <th></th>\n",
       "      <th>const</th>\n",
       "      <th>Yearly Microplastics Emission</th>\n",
       "      <th>Mean BMI (female)</th>\n",
       "      <th>AlcAmt</th>\n",
       "      <th>Cig/Adult</th>\n",
       "      <th>FirstChildAge</th>\n",
       "      <th>Reproductive Life Span</th>\n",
       "    </tr>\n",
       "  </thead>\n",
       "  <tbody>\n",
       "    <tr>\n",
       "      <td>0</td>\n",
       "      <td>1.0</td>\n",
       "      <td>1400</td>\n",
       "      <td>4.649815e+13</td>\n",
       "      <td>747.230</td>\n",
       "      <td>2408.999965</td>\n",
       "      <td>24.740000</td>\n",
       "      <td>35.785938</td>\n",
       "    </tr>\n",
       "    <tr>\n",
       "      <td>1</td>\n",
       "      <td>1.0</td>\n",
       "      <td>1500</td>\n",
       "      <td>4.865535e+13</td>\n",
       "      <td>784.310</td>\n",
       "      <td>2609.750035</td>\n",
       "      <td>25.000000</td>\n",
       "      <td>35.823044</td>\n",
       "    </tr>\n",
       "    <tr>\n",
       "      <td>2</td>\n",
       "      <td>1.0</td>\n",
       "      <td>1800</td>\n",
       "      <td>5.031319e+13</td>\n",
       "      <td>787.020</td>\n",
       "      <td>2701.000035</td>\n",
       "      <td>25.133333</td>\n",
       "      <td>35.860151</td>\n",
       "    </tr>\n",
       "    <tr>\n",
       "      <td>3</td>\n",
       "      <td>1.0</td>\n",
       "      <td>2000</td>\n",
       "      <td>5.242412e+13</td>\n",
       "      <td>796.570</td>\n",
       "      <td>2536.750017</td>\n",
       "      <td>25.366667</td>\n",
       "      <td>35.897257</td>\n",
       "    </tr>\n",
       "    <tr>\n",
       "      <td>4</td>\n",
       "      <td>1.0</td>\n",
       "      <td>2200</td>\n",
       "      <td>5.470030e+13</td>\n",
       "      <td>796.565</td>\n",
       "      <td>2682.749965</td>\n",
       "      <td>25.250000</td>\n",
       "      <td>35.934363</td>\n",
       "    </tr>\n",
       "  </tbody>\n",
       "</table>\n",
       "</div>"
      ],
      "text/plain": [
       "   const  Yearly Microplastics Emission  Mean BMI (female)   AlcAmt  \\\n",
       "0    1.0                           1400       4.649815e+13  747.230   \n",
       "1    1.0                           1500       4.865535e+13  784.310   \n",
       "2    1.0                           1800       5.031319e+13  787.020   \n",
       "3    1.0                           2000       5.242412e+13  796.570   \n",
       "4    1.0                           2200       5.470030e+13  796.565   \n",
       "\n",
       "     Cig/Adult  FirstChildAge  Reproductive Life Span  \n",
       "0  2408.999965      24.740000               35.785938  \n",
       "1  2609.750035      25.000000               35.823044  \n",
       "2  2701.000035      25.133333               35.860151  \n",
       "3  2536.750017      25.366667               35.897257  \n",
       "4  2682.749965      25.250000               35.934363  "
      ]
     },
     "execution_count": 170,
     "metadata": {},
     "output_type": "execute_result"
    }
   ],
   "source": [
    "X.head()"
   ]
  },
  {
   "cell_type": "code",
   "execution_count": 167,
   "metadata": {},
   "outputs": [],
   "source": [
    "# X['Mean BMI (female)'] = np.log10(X['Mean BMI (female)'])\n",
    "X['Mean BMI (female)'] = np.power(X['Mean BMI (female)'],10)"
   ]
  },
  {
   "cell_type": "code",
   "execution_count": 168,
   "metadata": {},
   "outputs": [
    {
     "data": {
      "text/plain": [
       "{'Yearly Microplastics Emission': 109.65591635022008,\n",
       " 'Mean BMI (female)': 1934.5705518548614,\n",
       " 'AlcAmt': 2.8498739675228606,\n",
       " 'Cig/Adult': 8.098599500542585,\n",
       " 'FirstChildAge': 29.45483392288755,\n",
       " 'Reproductive Life Span': 1.9232888201927858}"
      ]
     },
     "execution_count": 168,
     "metadata": {},
     "output_type": "execute_result"
    }
   ],
   "source": [
    "from statsmodels.stats.outliers_influence import variance_inflation_factor\n",
    "{X.columns[i]: variance_inflation_factor(X.values, i)                                                                                                                                   for i in range(1, X.shape[1])}"
   ]
  },
  {
   "cell_type": "code",
   "execution_count": 166,
   "metadata": {},
   "outputs": [],
   "source": [
    "X = df.drop(columns = [\"MedianAge\"])\n",
    "X = sm.add_constant(X)"
   ]
  },
  {
   "cell_type": "code",
   "execution_count": 169,
   "metadata": {},
   "outputs": [
    {
     "name": "stdout",
     "output_type": "stream",
     "text": [
      "                            OLS Regression Results                            \n",
      "==============================================================================\n",
      "Dep. Variable:            Cancer Rate   R-squared:                       0.986\n",
      "Model:                            OLS   Adj. R-squared:                  0.984\n",
      "Method:                 Least Squares   F-statistic:                     472.6\n",
      "Date:                Fri, 01 Apr 2022   Prob (F-statistic):           7.29e-24\n",
      "Time:                        14:22:13   Log-Likelihood:                 129.24\n",
      "No. Observations:                  31   AIC:                            -248.5\n",
      "Df Residuals:                      26   BIC:                            -241.3\n",
      "Df Model:                           4                                         \n",
      "Covariance Type:            nonrobust                                         \n",
      "=================================================================================================\n",
      "                                    coef    std err          t      P>|t|      [0.025      0.975]\n",
      "-------------------------------------------------------------------------------------------------\n",
      "const                            -0.0003   9.47e-05     -3.220      0.003      -0.000      -0.000\n",
      "Yearly Microplastics Emission -1.426e-05   1.94e-06     -7.341      0.000   -1.83e-05   -1.03e-05\n",
      "Mean BMI (female)              3.365e-15   2.64e-16     12.763      0.000    2.82e-15    3.91e-15\n",
      "AlcAmt                         6.317e-05   2.79e-05      2.265      0.032    5.85e-06       0.000\n",
      "Cig/Adult                       1.47e-06   8.99e-06      0.164      0.871    -1.7e-05    1.99e-05\n",
      "FirstChildAge                     0.0097      0.005      1.974      0.059      -0.000       0.020\n",
      "Reproductive Life Span           -0.0100      0.003     -3.278      0.003      -0.016      -0.004\n",
      "==============================================================================\n",
      "Omnibus:                        0.596   Durbin-Watson:                   1.393\n",
      "Prob(Omnibus):                  0.742   Jarque-Bera (JB):                0.130\n",
      "Skew:                           0.146   Prob(JB):                        0.937\n",
      "Kurtosis:                       3.121   Cond. No.                     2.55e+17\n",
      "==============================================================================\n",
      "\n",
      "Warnings:\n",
      "[1] Standard Errors assume that the covariance matrix of the errors is correctly specified.\n",
      "[2] The condition number is large, 2.55e+17. This might indicate that there are\n",
      "strong multicollinearity or other numerical problems.\n"
     ]
    }
   ],
   "source": [
    "y = df_cancer['Cancer Rate']\n",
    "y = y.reset_index().drop(columns = \"index\")\n",
    "y = y.astype(float)\n",
    "\n",
    "# Define the modell\n",
    "X = sm.add_constant(X)\n",
    "model = sm.OLS(y, X)\n",
    "\n",
    "# Fit the model\n",
    "model_fit = model.fit()\n",
    "\n",
    "# Print the model summary\n",
    "print(model_fit.summary())"
   ]
  },
  {
   "cell_type": "code",
   "execution_count": 100,
   "metadata": {},
   "outputs": [
    {
     "data": {
      "text/plain": [
       "<matplotlib.axes._subplots.AxesSubplot at 0x1fbb16634c8>"
      ]
     },
     "execution_count": 100,
     "metadata": {},
     "output_type": "execute_result"
    },
    {
     "data": {
      "image/png": "[encoded data removed]",
      "text/plain": [
       "<Figure size 432x288 with 1 Axes>"
      ]
     },
     "metadata": {
      "needs_background": "light"
     },
     "output_type": "display_data"
    }
   ],
   "source": [
    "sb.distplot(model_fit.resid)"
   ]
  },
  {
   "cell_type": "code",
   "execution_count": 93,
   "metadata": {},
   "outputs": [
    {
     "data": {
      "text/plain": [
       "(array([ 1.,  0.,  0.,  1.,  0.,  1.,  1.,  4.,  7., 16.]),\n",
       " array([-0.12131768, -0.09525257, -0.06918747, -0.04312237, -0.01705726,\n",
       "         0.00900784,  0.03507295,  0.06113805,  0.08720315,  0.11326826,\n",
       "         0.13933336]),\n",
       " <a list of 10 Patch objects>)"
      ]
     },
     "execution_count": 93,
     "metadata": {},
     "output_type": "execute_result"
    },
    {
     "data": {
      "image/png": "[encoded data removed]",
      "text/plain": [
       "<Figure size 432x288 with 1 Axes>"
      ]
     },
     "metadata": {
      "needs_background": "light"
     },
     "output_type": "display_data"
    }
   ],
   "source": [
    "plt.hist(model_fit.resid, rwidth= 0.9)"
   ]
  },
  {
   "cell_type": "code",
   "execution_count": 94,
   "metadata": {},
   "outputs": [
    {
     "name": "stdout",
     "output_type": "stream",
     "text": [
      "ks test 1: 0.0005686819988937954\n",
      "ks test 2: KstestResult(statistic=0.4517197094784895, pvalue=2.7015015229292503e-06)\n",
      "shapiro test: (0.7077444791793823, 1.5150430954236072e-06)\n"
     ]
    }
   ],
   "source": [
    "print('ks test 1: ' + str(st.diagnostic.kstest_normal(model_fit.resid)[1]))\n",
    "print('ks test 2: ' + str(sp.kstest(model_fit.resid,'norm')))\n",
    "print('shapiro test: ' + str(sp.shapiro(model_fit.resid)))"
   ]
  },
  {
   "cell_type": "code",
   "execution_count": 8,
   "metadata": {},
   "outputs": [
    {
     "data": {
      "image/png": "[encoded data removed]",
      "text/plain": [
       "<Figure size 432x288 with 1 Axes>"
      ]
     },
     "metadata": {
      "needs_background": "light"
     },
     "output_type": "display_data"
    }
   ],
   "source": [
    "# model values\n",
    "model_fitted_y = model_fit.fittedvalues\n",
    "# model residuals\n",
    "model_residuals = model_fit.resid\n",
    "# normalized residuals\n",
    "model_norm_residuals = model_fit.get_influence().resid_studentized_internal\n",
    "# absolute squared normalized residuals\n",
    "model_norm_residuals_abs_sqrt = np.sqrt(np.abs(model_norm_residuals))\n",
    "# absolute residuals\n",
    "model_abs_resid = np.abs(model_residuals)\n",
    "# leverage, from statsmodels internals\n",
    "model_leverage = model_fit.get_influence().hat_matrix_diag\n",
    "# cook's distance, from statsmodels internals\n",
    "model_cooks = model_fit.get_influence().cooks_distance[0]\n",
    "\n",
    "plot_lm_1 = plt.figure()\n",
    "plot_lm_1.axes[0] = sb.residplot(model_fitted_y, df.columns[-1], data=df,\n",
    "                          lowess=True,\n",
    "                          scatter_kws={'alpha': 0.5},\n",
    "                          line_kws={'color': 'red', 'lw': 1, 'alpha': 0.8})\n",
    "\n",
    "plot_lm_1.axes[0].set_title('Residuals vs Fitted')\n",
    "plot_lm_1.axes[0].set_xlabel('Fitted values')\n",
    "plot_lm_1.axes[0].set_ylabel('Residuals');"
   ]
  },
  {
   "cell_type": "code",
   "execution_count": 11,
   "metadata": {},
   "outputs": [
    {
     "data": {
      "image/png": "[encoded data removed]",
      "text/plain": [
       "<Figure size 432x288 with 1 Axes>"
      ]
     },
     "metadata": {
      "needs_background": "light"
     },
     "output_type": "display_data"
    }
   ],
   "source": [
    "QQ = ProbPlot(model_norm_residuals)\n",
    "plot_lm_2 = QQ.qqplot(line='45', alpha=0.5, color='#4C72B0', lw=1)\n",
    "plot_lm_2.axes[0].set_title('Normal Q-Q')\n",
    "plot_lm_2.axes[0].set_xlabel('Theoretical Quantiles')\n",
    "plot_lm_2.axes[0].set_ylabel('Standardized Residuals');\n",
    "# annotations\n",
    "abs_norm_resid = np.flip(np.argsort(np.abs(model_norm_residuals)), 0)\n",
    "abs_norm_resid_top_3 = abs_norm_resid[:3]\n",
    "for r, i in enumerate(abs_norm_resid_top_3):\n",
    "    plot_lm_2.axes[0].annotate(i,\n",
    "                               xy=(np.flip(QQ.theoretical_quantiles, 0)[r],\n",
    "                                   model_norm_residuals[i]));"
   ]
  },
  {
   "cell_type": "code",
   "execution_count": 12,
   "metadata": {},
   "outputs": [
    {
     "data": {
      "image/png": "[encoded data removed]",
      "text/plain": [
       "<Figure size 432x288 with 1 Axes>"
      ]
     },
     "metadata": {
      "needs_background": "light"
     },
     "output_type": "display_data"
    }
   ],
   "source": [
    "plot_lm_3 = plt.figure()\n",
    "plt.scatter(model_fitted_y, model_norm_residuals_abs_sqrt, alpha=0.5);\n",
    "sb.regplot(model_fitted_y, model_norm_residuals_abs_sqrt,\n",
    "              scatter=False,\n",
    "              ci=False,\n",
    "              lowess=True,\n",
    "              line_kws={'color': 'red', 'lw': 1, 'alpha': 0.8});\n",
    "plot_lm_3.axes[0].set_title('Scale-Location')\n",
    "plot_lm_3.axes[0].set_xlabel('Fitted values')\n",
    "plot_lm_3.axes[0].set_ylabel('$\\sqrt{|Standardized Residuals|}$');\n",
    "\n",
    "# annotations\n",
    "abs_sq_norm_resid = np.flip(np.argsort(model_norm_residuals_abs_sqrt), 0)\n",
    "abs_sq_norm_resid_top_3 = abs_sq_norm_resid[:3]\n",
    "for i in abs_norm_resid_top_3:\n",
    "    plot_lm_3.axes[0].annotate(i,\n",
    "                                 xy=(model_fitted_y[i],\n",
    "                                     model_norm_residuals_abs_sqrt[i]));"
   ]
  },
  {
   "cell_type": "code",
   "execution_count": 13,
   "metadata": {},
   "outputs": [
    {
     "data": {
      "image/png": "[encoded data removed]",
      "text/plain": [
       "<Figure size 432x288 with 1 Axes>"
      ]
     },
     "metadata": {
      "needs_background": "light"
     },
     "output_type": "display_data"
    }
   ],
   "source": [
    "plot_lm_4 = plt.figure();\n",
    "plt.scatter(model_leverage, model_norm_residuals, alpha=0.5);\n",
    "sb.regplot(model_leverage, model_norm_residuals,\n",
    "              scatter=False,\n",
    "              ci=False,\n",
    "              lowess=True,\n",
    "              line_kws={'color': 'red', 'lw': 1, 'alpha': 0.8});\n",
    "plot_lm_4.axes[0].set_xlim(0, max(model_leverage)+0.01)\n",
    "plot_lm_4.axes[0].set_ylim(-3, 5)\n",
    "plot_lm_4.axes[0].set_title('Residuals vs Leverage')\n",
    "plot_lm_4.axes[0].set_xlabel('Leverage')\n",
    "plot_lm_4.axes[0].set_ylabel('Standardized Residuals');\n",
    "\n",
    "# annotations\n",
    "leverage_top_3 = np.flip(np.argsort(model_cooks), 0)[:3]\n",
    "for i in leverage_top_3:\n",
    "    plot_lm_4.axes[0].annotate(i,\n",
    "                                 xy=(model_leverage[i],\n",
    "                                     model_norm_residuals[i]));"
   ]
  },
  {
   "cell_type": "code",
   "execution_count": null,
   "metadata": {},
   "outputs": [],
   "source": []
  }
 ],
 "metadata": {
  "kernelspec": {
   "display_name": "Python 3",
   "language": "python",
   "name": "python3"
  },
  "language_info": {
   "codemirror_mode": {
    "name": "ipython",
    "version": 3
   },
   "file_extension": ".py",
   "mimetype": "text/x-python",
   "name": "python",
   "nbconvert_exporter": "python",
   "pygments_lexer": "ipython3",
   "version": "3.7.4"
  }
 },
 "nbformat": 4,
 "nbformat_minor": 5
}
