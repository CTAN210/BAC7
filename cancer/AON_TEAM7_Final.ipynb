{
 "cells": [
  {
   "cell_type": "code",
   "execution_count": 1,
   "id": "74152959",
   "metadata": {},
   "outputs": [],
   "source": [
    "import pandas as pd\n",
    "import seaborn as sb\n",
    "import pylab as py\n",
    "import numpy as np\n",
    "import matplotlib.pyplot as plt\n",
    "import plotly.express as px\n",
    "import folium\n",
    "from folium import plugins\n",
    "from geopy.geocoders import Nominatim\n",
    "import datetime\n",
    "import statsmodels.api as sm"
   ]
  },
  {
   "cell_type": "code",
   "execution_count": 110,
   "id": "ced5935d",
   "metadata": {},
   "outputs": [
    {
     "data": {
      "text/html": [
       "<div>\n",
       "<style scoped>\n",
       "    .dataframe tbody tr th:only-of-type {\n",
       "        vertical-align: middle;\n",
       "    }\n",
       "\n",
       "    .dataframe tbody tr th {\n",
       "        vertical-align: top;\n",
       "    }\n",
       "\n",
       "    .dataframe thead th {\n",
       "        text-align: right;\n",
       "    }\n",
       "</style>\n",
       "<table border=\"1\" class=\"dataframe\">\n",
       "  <thead>\n",
       "    <tr style=\"text-align: right;\">\n",
       "      <th></th>\n",
       "      <th>Year</th>\n",
       "      <th>Accumulated ocean plastic: Microplastics (&lt;0.5cm)</th>\n",
       "      <th>Yearly Microplastics Emission</th>\n",
       "    </tr>\n",
       "  </thead>\n",
       "  <tbody>\n",
       "    <tr>\n",
       "      <th>0</th>\n",
       "      <td>1950</td>\n",
       "      <td>0</td>\n",
       "      <td>0</td>\n",
       "    </tr>\n",
       "    <tr>\n",
       "      <th>1</th>\n",
       "      <td>1951</td>\n",
       "      <td>0</td>\n",
       "      <td>0</td>\n",
       "    </tr>\n",
       "    <tr>\n",
       "      <th>2</th>\n",
       "      <td>1952</td>\n",
       "      <td>0</td>\n",
       "      <td>0</td>\n",
       "    </tr>\n",
       "    <tr>\n",
       "      <th>3</th>\n",
       "      <td>1953</td>\n",
       "      <td>0</td>\n",
       "      <td>0</td>\n",
       "    </tr>\n",
       "    <tr>\n",
       "      <th>4</th>\n",
       "      <td>1954</td>\n",
       "      <td>100</td>\n",
       "      <td>100</td>\n",
       "    </tr>\n",
       "  </tbody>\n",
       "</table>\n",
       "</div>"
      ],
      "text/plain": [
       "   Year  Accumulated ocean plastic: Microplastics (<0.5cm)  \\\n",
       "0  1950                                                  0   \n",
       "1  1951                                                  0   \n",
       "2  1952                                                  0   \n",
       "3  1953                                                  0   \n",
       "4  1954                                                100   \n",
       "\n",
       "   Yearly Microplastics Emission  \n",
       "0                              0  \n",
       "1                              0  \n",
       "2                              0  \n",
       "3                              0  \n",
       "4                            100  "
      ]
     },
     "execution_count": 110,
     "metadata": {},
     "output_type": "execute_result"
    }
   ],
   "source": [
    "df = pd.read_csv('microplastics-in-ocean.csv')\n",
    "df.head()"
   ]
  },
  {
   "cell_type": "code",
   "execution_count": 97,
   "id": "497a9157",
   "metadata": {},
   "outputs": [],
   "source": [
    "# df.describe()\n",
    "# df.isnull().any()"
   ]
  },
  {
   "cell_type": "code",
   "execution_count": 111,
   "id": "524652e2",
   "metadata": {
    "scrolled": true
   },
   "outputs": [
    {
     "data": {
      "text/html": [
       "<div>\n",
       "<style scoped>\n",
       "    .dataframe tbody tr th:only-of-type {\n",
       "        vertical-align: middle;\n",
       "    }\n",
       "\n",
       "    .dataframe tbody tr th {\n",
       "        vertical-align: top;\n",
       "    }\n",
       "\n",
       "    .dataframe thead th {\n",
       "        text-align: right;\n",
       "    }\n",
       "</style>\n",
       "<table border=\"1\" class=\"dataframe\">\n",
       "  <thead>\n",
       "    <tr style=\"text-align: right;\">\n",
       "      <th></th>\n",
       "      <th>Time</th>\n",
       "      <th>Year</th>\n",
       "      <th>Yearly Microplastics Emission</th>\n",
       "    </tr>\n",
       "  </thead>\n",
       "  <tbody>\n",
       "    <tr>\n",
       "      <th>24</th>\n",
       "      <td>1</td>\n",
       "      <td>1974</td>\n",
       "      <td>1400</td>\n",
       "    </tr>\n",
       "    <tr>\n",
       "      <th>25</th>\n",
       "      <td>2</td>\n",
       "      <td>1975</td>\n",
       "      <td>1500</td>\n",
       "    </tr>\n",
       "    <tr>\n",
       "      <th>26</th>\n",
       "      <td>3</td>\n",
       "      <td>1976</td>\n",
       "      <td>1800</td>\n",
       "    </tr>\n",
       "    <tr>\n",
       "      <th>27</th>\n",
       "      <td>4</td>\n",
       "      <td>1977</td>\n",
       "      <td>2000</td>\n",
       "    </tr>\n",
       "    <tr>\n",
       "      <th>28</th>\n",
       "      <td>5</td>\n",
       "      <td>1978</td>\n",
       "      <td>2200</td>\n",
       "    </tr>\n",
       "  </tbody>\n",
       "</table>\n",
       "</div>"
      ],
      "text/plain": [
       "    Time  Year  Yearly Microplastics Emission\n",
       "24     1  1974                           1400\n",
       "25     2  1975                           1500\n",
       "26     3  1976                           1800\n",
       "27     4  1977                           2000\n",
       "28     5  1978                           2200"
      ]
     },
     "execution_count": 111,
     "metadata": {},
     "output_type": "execute_result"
    }
   ],
   "source": [
    "df = df.loc[(df['Year'] >= 1974) & (df['Year'] <= 2004)]\n",
    "df.insert(0, 'Time', range(1, 1 + len(df)))\n",
    "df = df.drop([\"Accumulated ocean plastic: Microplastics (<0.5cm)\"], axis = 1)\n",
    "df.head()"
   ]
  },
  {
   "cell_type": "code",
   "execution_count": 104,
   "id": "f5ca93f7",
   "metadata": {},
   "outputs": [
    {
     "data": {
      "text/html": [
       "<div>\n",
       "<style scoped>\n",
       "    .dataframe tbody tr th:only-of-type {\n",
       "        vertical-align: middle;\n",
       "    }\n",
       "\n",
       "    .dataframe tbody tr th {\n",
       "        vertical-align: top;\n",
       "    }\n",
       "\n",
       "    .dataframe thead th {\n",
       "        text-align: right;\n",
       "    }\n",
       "</style>\n",
       "<table border=\"1\" class=\"dataframe\">\n",
       "  <thead>\n",
       "    <tr style=\"text-align: right;\">\n",
       "      <th></th>\n",
       "      <th>Year</th>\n",
       "      <th>PopFemale</th>\n",
       "    </tr>\n",
       "  </thead>\n",
       "  <tbody>\n",
       "    <tr>\n",
       "      <th>0</th>\n",
       "      <td>1980</td>\n",
       "      <td>8.682137e+07</td>\n",
       "    </tr>\n",
       "    <tr>\n",
       "      <th>1</th>\n",
       "      <td>1981</td>\n",
       "      <td>8.839908e+07</td>\n",
       "    </tr>\n",
       "    <tr>\n",
       "      <th>2</th>\n",
       "      <td>1982</td>\n",
       "      <td>9.000685e+07</td>\n",
       "    </tr>\n",
       "    <tr>\n",
       "      <th>3</th>\n",
       "      <td>1983</td>\n",
       "      <td>9.165150e+07</td>\n",
       "    </tr>\n",
       "    <tr>\n",
       "      <th>4</th>\n",
       "      <td>1984</td>\n",
       "      <td>9.334087e+07</td>\n",
       "    </tr>\n",
       "  </tbody>\n",
       "</table>\n",
       "</div>"
      ],
      "text/plain": [
       "   Year     PopFemale\n",
       "0  1980  8.682137e+07\n",
       "1  1981  8.839908e+07\n",
       "2  1982  9.000685e+07\n",
       "3  1983  9.165150e+07\n",
       "4  1984  9.334087e+07"
      ]
     },
     "execution_count": 104,
     "metadata": {},
     "output_type": "execute_result"
    }
   ],
   "source": [
    "df_female = pd.read_csv(\"female-pop.csv\")\n",
    "df_female = df_female.groupby(\"Year\").sum()\n",
    "df_female = df_female.reset_index()\n",
    "df_female = df_female.loc[(df_female['Year'] >= 1980) & (df_female['Year'] <= 2010)]\n",
    "df_female = df_female.reset_index()\n",
    "df_female = df_female.drop(columns = [\"index\"])\n",
    "df_female.head()"
   ]
  },
  {
   "cell_type": "code",
   "execution_count": 105,
   "id": "81843c04",
   "metadata": {},
   "outputs": [
    {
     "data": {
      "text/html": [
       "<div>\n",
       "<style scoped>\n",
       "    .dataframe tbody tr th:only-of-type {\n",
       "        vertical-align: middle;\n",
       "    }\n",
       "\n",
       "    .dataframe tbody tr th {\n",
       "        vertical-align: top;\n",
       "    }\n",
       "\n",
       "    .dataframe thead th {\n",
       "        text-align: right;\n",
       "    }\n",
       "</style>\n",
       "<table border=\"1\" class=\"dataframe\">\n",
       "  <thead>\n",
       "    <tr style=\"text-align: right;\">\n",
       "      <th></th>\n",
       "      <th>Year</th>\n",
       "      <th>Cancer Rate</th>\n",
       "    </tr>\n",
       "  </thead>\n",
       "  <tbody>\n",
       "    <tr>\n",
       "      <th>0</th>\n",
       "      <td>1980</td>\n",
       "      <td>0.069059</td>\n",
       "    </tr>\n",
       "    <tr>\n",
       "      <th>1</th>\n",
       "      <td>1981</td>\n",
       "      <td>0.069346</td>\n",
       "    </tr>\n",
       "    <tr>\n",
       "      <th>2</th>\n",
       "      <td>1982</td>\n",
       "      <td>0.075905</td>\n",
       "    </tr>\n",
       "    <tr>\n",
       "      <th>3</th>\n",
       "      <td>1983</td>\n",
       "      <td>0.090922</td>\n",
       "    </tr>\n",
       "    <tr>\n",
       "      <th>4</th>\n",
       "      <td>1984</td>\n",
       "      <td>0.092270</td>\n",
       "    </tr>\n",
       "  </tbody>\n",
       "</table>\n",
       "</div>"
      ],
      "text/plain": [
       "   Year  Cancer Rate\n",
       "0  1980     0.069059\n",
       "1  1981     0.069346\n",
       "2  1982     0.075905\n",
       "3  1983     0.090922\n",
       "4  1984     0.092270"
      ]
     },
     "execution_count": 105,
     "metadata": {},
     "output_type": "execute_result"
    }
   ],
   "source": [
    "df_cancer = pd.read_csv('cancer.csv')\n",
    "df_cancer = df_cancer.loc[(df_cancer['Year'] >= 1980) & (df_cancer['Year'] <= 2010)]\n",
    "df_cancer['Cancer Rate'] = df_cancer.sum(axis=1) - df_cancer[\"Year\"]\n",
    "df_cancer = df_cancer.reset_index()\n",
    "df_cancer = df_cancer.drop(columns = [\"index\"])\n",
    "df_cancer = pd.concat([df_cancer['Year'], df_cancer['Cancer Rate']], axis = 1)\n",
    "df_cancer[\"Cancer Rate\"] = df_cancer[\"Cancer Rate\"]/ df_female[\"PopFemale\"] *100\n",
    "df_cancer.head()"
   ]
  },
  {
   "cell_type": "code",
   "execution_count": 108,
   "id": "8f8da319",
   "metadata": {},
   "outputs": [
    {
     "data": {
      "text/plain": [
       "31"
      ]
     },
     "execution_count": 108,
     "metadata": {},
     "output_type": "execute_result"
    }
   ],
   "source": [
    "len(df_cancer)"
   ]
  },
  {
   "cell_type": "code",
   "execution_count": 112,
   "id": "f175cf4f",
   "metadata": {},
   "outputs": [
    {
     "name": "stdout",
     "output_type": "stream",
     "text": [
      "                            OLS Regression Results                            \n",
      "==============================================================================\n",
      "Dep. Variable:            Cancer Rate   R-squared:                       0.882\n",
      "Model:                            OLS   Adj. R-squared:                  0.878\n",
      "Method:                 Least Squares   F-statistic:                     216.7\n",
      "Date:                Thu, 31 Mar 2022   Prob (F-statistic):           5.44e-15\n",
      "Time:                        16:58:53   Log-Likelihood:                 95.710\n",
      "No. Observations:                  31   AIC:                            -187.4\n",
      "Df Residuals:                      29   BIC:                            -184.6\n",
      "Df Model:                           1                                         \n",
      "Covariance Type:            nonrobust                                         \n",
      "=================================================================================================\n",
      "                                    coef    std err          t      P>|t|      [0.025      0.975]\n",
      "-------------------------------------------------------------------------------------------------\n",
      "const                             0.0816      0.004     20.715      0.000       0.074       0.090\n",
      "Yearly Microplastics Emission  7.628e-06   5.18e-07     14.722      0.000    6.57e-06    8.69e-06\n",
      "==============================================================================\n",
      "Omnibus:                        3.995   Durbin-Watson:                   0.146\n",
      "Prob(Omnibus):                  0.136   Jarque-Bera (JB):                3.611\n",
      "Skew:                          -0.782   Prob(JB):                        0.164\n",
      "Kurtosis:                       2.406   Cond. No.                     1.46e+04\n",
      "==============================================================================\n",
      "\n",
      "Notes:\n",
      "[1] Standard Errors assume that the covariance matrix of the errors is correctly specified.\n",
      "[2] The condition number is large, 1.46e+04. This might indicate that there are\n",
      "strong multicollinearity or other numerical problems.\n"
     ]
    },
    {
     "name": "stderr",
     "output_type": "stream",
     "text": [
      "/Users/justinaquak/opt/anaconda3/lib/python3.9/site-packages/statsmodels/tsa/tsatools.py:142: FutureWarning: In a future version of pandas all arguments of concat except for the argument 'objs' will be keyword-only\n",
      "  x = pd.concat(x[::order], 1)\n"
     ]
    }
   ],
   "source": [
    "X = df\n",
    "# X = X.reset_index().drop(columns = [\"index\",\"Year\"])\n",
    "X = X.reset_index().drop(columns = [\"index\",\"Year\",\"Time\"])\n",
    "\n",
    "y = df_cancer['Cancer Rate']\n",
    "y = y.reset_index().drop(columns = \"index\")\n",
    "y = y.astype(float)\n",
    "\n",
    "# Define the modell\n",
    "X = sm.add_constant(X)\n",
    "model = sm.OLS(y, X)\n",
    "\n",
    "# Fit the model\n",
    "model_fit = model.fit()\n",
    "\n",
    "# Print the model summary\n",
    "print(model_fit.summary())\n",
    "# print(model_fit.rsquared)\n",
    "# print(model_fit.rsquared_adj)\n",
    "# print(model_fit.pvalues)\n",
    "# print(model_fit.params)"
   ]
  },
  {
   "cell_type": "code",
   "execution_count": 125,
   "id": "d4f9ab26",
   "metadata": {},
   "outputs": [
    {
     "data": {
      "text/plain": [
       "<AxesSubplot:xlabel='Yearly Microplastics Emission', ylabel='Cancer Rate'>"
      ]
     },
     "execution_count": 125,
     "metadata": {},
     "output_type": "execute_result"
    },
    {
     "data": {
      "image/png": "[encoded data removed]",
      "text/plain": [
       "<Figure size 432x288 with 1 Axes>"
      ]
     },
     "metadata": {
      "needs_background": "light"
     },
     "output_type": "display_data"
    }
   ],
   "source": [
    "sb.regplot(x=X[\"Yearly Microplastics Emission\"], y=y)"
   ]
  },
  {
   "cell_type": "code",
   "execution_count": 113,
   "id": "a42b1800",
   "metadata": {},
   "outputs": [],
   "source": [
    "female_df = pd.read_csv('female-bmi.csv')\n",
    "female_df = female_df.loc[(female_df['Year'] >= 1975) & (female_df['Year'] <= 2005)]\n",
    "female_df = female_df.groupby(['Year']).median()\n",
    "female_df = female_df.reset_index()"
   ]
  },
  {
   "cell_type": "code",
   "execution_count": 115,
   "id": "d37b29a3",
   "metadata": {},
   "outputs": [
    {
     "data": {
      "text/html": [
       "<div>\n",
       "<style scoped>\n",
       "    .dataframe tbody tr th:only-of-type {\n",
       "        vertical-align: middle;\n",
       "    }\n",
       "\n",
       "    .dataframe tbody tr th {\n",
       "        vertical-align: top;\n",
       "    }\n",
       "\n",
       "    .dataframe thead th {\n",
       "        text-align: right;\n",
       "    }\n",
       "</style>\n",
       "<table border=\"1\" class=\"dataframe\">\n",
       "  <thead>\n",
       "    <tr style=\"text-align: right;\">\n",
       "      <th></th>\n",
       "      <th>AlcAmt</th>\n",
       "    </tr>\n",
       "  </thead>\n",
       "  <tbody>\n",
       "    <tr>\n",
       "      <th>0</th>\n",
       "      <td>747.230</td>\n",
       "    </tr>\n",
       "    <tr>\n",
       "      <th>1</th>\n",
       "      <td>784.310</td>\n",
       "    </tr>\n",
       "    <tr>\n",
       "      <th>2</th>\n",
       "      <td>787.020</td>\n",
       "    </tr>\n",
       "    <tr>\n",
       "      <th>3</th>\n",
       "      <td>796.570</td>\n",
       "    </tr>\n",
       "    <tr>\n",
       "      <th>4</th>\n",
       "      <td>796.565</td>\n",
       "    </tr>\n",
       "  </tbody>\n",
       "</table>\n",
       "</div>"
      ],
      "text/plain": [
       "    AlcAmt\n",
       "0  747.230\n",
       "1  784.310\n",
       "2  787.020\n",
       "3  796.570\n",
       "4  796.565"
      ]
     },
     "execution_count": 115,
     "metadata": {},
     "output_type": "execute_result"
    }
   ],
   "source": [
    "alcohol_df = pd.read_csv('alcohol.csv')\n",
    "alcohol_df = alcohol_df.loc[(alcohol_df['Year'] >= 1972) & (alcohol_df['Year'] <= 2002)]\n",
    "alcohol_df = alcohol_df.groupby(\"Year\").sum()\n",
    "alcohol_df = alcohol_df.reset_index()\n",
    "alcohol_df = alcohol_df.drop(columns = \"Year\")\n",
    "alcohol_df[\"AlcAmt\"] = alcohol_df[\"AlcAmt\"]/2\n",
    "alcohol_df.head()"
   ]
  },
  {
   "cell_type": "code",
   "execution_count": 116,
   "id": "05e6ff52",
   "metadata": {},
   "outputs": [
    {
     "data": {
      "text/html": [
       "<div>\n",
       "<style scoped>\n",
       "    .dataframe tbody tr th:only-of-type {\n",
       "        vertical-align: middle;\n",
       "    }\n",
       "\n",
       "    .dataframe tbody tr th {\n",
       "        vertical-align: top;\n",
       "    }\n",
       "\n",
       "    .dataframe thead th {\n",
       "        text-align: right;\n",
       "    }\n",
       "</style>\n",
       "<table border=\"1\" class=\"dataframe\">\n",
       "  <thead>\n",
       "    <tr style=\"text-align: right;\">\n",
       "      <th></th>\n",
       "      <th>Cig/Adult/Day</th>\n",
       "    </tr>\n",
       "  </thead>\n",
       "  <tbody>\n",
       "    <tr>\n",
       "      <th>0</th>\n",
       "      <td>6.60</td>\n",
       "    </tr>\n",
       "    <tr>\n",
       "      <th>1</th>\n",
       "      <td>7.15</td>\n",
       "    </tr>\n",
       "    <tr>\n",
       "      <th>2</th>\n",
       "      <td>7.40</td>\n",
       "    </tr>\n",
       "    <tr>\n",
       "      <th>3</th>\n",
       "      <td>6.95</td>\n",
       "    </tr>\n",
       "    <tr>\n",
       "      <th>4</th>\n",
       "      <td>7.35</td>\n",
       "    </tr>\n",
       "  </tbody>\n",
       "</table>\n",
       "</div>"
      ],
      "text/plain": [
       "   Cig/Adult/Day\n",
       "0           6.60\n",
       "1           7.15\n",
       "2           7.40\n",
       "3           6.95\n",
       "4           7.35"
      ]
     },
     "execution_count": 116,
     "metadata": {},
     "output_type": "execute_result"
    }
   ],
   "source": [
    "smoke_df = pd.read_csv('smoke.csv')\n",
    "smoke_df = smoke_df.loc[(smoke_df['Year'] >= 1972) & (smoke_df['Year'] <= 2002)]\n",
    "smoke_df = smoke_df.groupby(\"Year\").median()\n",
    "smoke_df = smoke_df.reset_index()\n",
    "smoke_df = smoke_df.drop(columns = \"Year\")\n",
    "smoke_df.head()"
   ]
  },
  {
   "cell_type": "code",
   "execution_count": 117,
   "id": "7acde7ed",
   "metadata": {},
   "outputs": [
    {
     "data": {
      "text/html": [
       "<div>\n",
       "<style scoped>\n",
       "    .dataframe tbody tr th:only-of-type {\n",
       "        vertical-align: middle;\n",
       "    }\n",
       "\n",
       "    .dataframe tbody tr th {\n",
       "        vertical-align: top;\n",
       "    }\n",
       "\n",
       "    .dataframe thead th {\n",
       "        text-align: right;\n",
       "    }\n",
       "</style>\n",
       "<table border=\"1\" class=\"dataframe\">\n",
       "  <thead>\n",
       "    <tr style=\"text-align: right;\">\n",
       "      <th></th>\n",
       "      <th>MedianAge</th>\n",
       "    </tr>\n",
       "  </thead>\n",
       "  <tbody>\n",
       "    <tr>\n",
       "      <th>0</th>\n",
       "      <td>23.724996</td>\n",
       "    </tr>\n",
       "    <tr>\n",
       "      <th>1</th>\n",
       "      <td>23.907336</td>\n",
       "    </tr>\n",
       "    <tr>\n",
       "      <th>2</th>\n",
       "      <td>24.089675</td>\n",
       "    </tr>\n",
       "    <tr>\n",
       "      <th>3</th>\n",
       "      <td>24.272015</td>\n",
       "    </tr>\n",
       "    <tr>\n",
       "      <th>4</th>\n",
       "      <td>24.454354</td>\n",
       "    </tr>\n",
       "  </tbody>\n",
       "</table>\n",
       "</div>"
      ],
      "text/plain": [
       "   MedianAge\n",
       "0  23.724996\n",
       "1  23.907336\n",
       "2  24.089675\n",
       "3  24.272015\n",
       "4  24.454354"
      ]
     },
     "execution_count": 117,
     "metadata": {},
     "output_type": "execute_result"
    }
   ],
   "source": [
    "age_df = pd.read_csv('age.csv')\n",
    "age_df = age_df.loc[(age_df['Year'] >= 1980) & (age_df['Year'] <= 2010)]\n",
    "age_df = age_df.reset_index()\n",
    "age_df = age_df.drop(columns = [\"Year\", \"index\"])\n",
    "age_df.head()"
   ]
  },
  {
   "cell_type": "code",
   "execution_count": 74,
   "id": "e6beed1f",
   "metadata": {},
   "outputs": [
    {
     "data": {
      "text/plain": [
       "33"
      ]
     },
     "execution_count": 74,
     "metadata": {},
     "output_type": "execute_result"
    }
   ],
   "source": [
    "len(smoke_df)"
   ]
  },
  {
   "cell_type": "code",
   "execution_count": 119,
   "id": "a668924a",
   "metadata": {},
   "outputs": [
    {
     "name": "stdout",
     "output_type": "stream",
     "text": [
      "                            OLS Regression Results                            \n",
      "==============================================================================\n",
      "Dep. Variable:            Cancer Rate   R-squared:                       0.882\n",
      "Model:                            OLS   Adj. R-squared:                  0.878\n",
      "Method:                 Least Squares   F-statistic:                     216.7\n",
      "Date:                Thu, 31 Mar 2022   Prob (F-statistic):           5.44e-15\n",
      "Time:                        16:59:13   Log-Likelihood:                 95.710\n",
      "No. Observations:                  31   AIC:                            -187.4\n",
      "Df Residuals:                      29   BIC:                            -184.6\n",
      "Df Model:                           1                                         \n",
      "Covariance Type:            nonrobust                                         \n",
      "=================================================================================================\n",
      "                                    coef    std err          t      P>|t|      [0.025      0.975]\n",
      "-------------------------------------------------------------------------------------------------\n",
      "const                             0.0816      0.004     20.715      0.000       0.074       0.090\n",
      "Yearly Microplastics Emission  7.628e-06   5.18e-07     14.722      0.000    6.57e-06    8.69e-06\n",
      "==============================================================================\n",
      "Omnibus:                        3.995   Durbin-Watson:                   0.146\n",
      "Prob(Omnibus):                  0.136   Jarque-Bera (JB):                3.611\n",
      "Skew:                          -0.782   Prob(JB):                        0.164\n",
      "Kurtosis:                       2.406   Cond. No.                     1.46e+04\n",
      "==============================================================================\n",
      "\n",
      "Notes:\n",
      "[1] Standard Errors assume that the covariance matrix of the errors is correctly specified.\n",
      "[2] The condition number is large, 1.46e+04. This might indicate that there are\n",
      "strong multicollinearity or other numerical problems.\n"
     ]
    },
    {
     "name": "stderr",
     "output_type": "stream",
     "text": [
      "/Users/justinaquak/opt/anaconda3/lib/python3.9/site-packages/statsmodels/tsa/tsatools.py:142: FutureWarning: In a future version of pandas all arguments of concat except for the argument 'objs' will be keyword-only\n",
      "  x = pd.concat(x[::order], 1)\n"
     ]
    }
   ],
   "source": [
    "X = df\n",
    "# X = X.reset_index().drop(columns = [\"index\",\"Year\"])\n",
    "X = X.reset_index().drop(columns = [\"index\",\"Year\",\"Time\"])\n",
    "\n",
    "y = df_cancer['Cancer Rate']\n",
    "y = y.reset_index().drop(columns = \"index\")\n",
    "y = y.astype(float)\n",
    "\n",
    "# Define the modell\n",
    "X = sm.add_constant(X)\n",
    "model = sm.OLS(y, X)\n",
    "\n",
    "# Fit the model\n",
    "model_fit = model.fit()\n",
    "\n",
    "# Print the model summary\n",
    "print(model_fit.summary())"
   ]
  },
  {
   "cell_type": "code",
   "execution_count": 121,
   "id": "2c430cf7",
   "metadata": {},
   "outputs": [
    {
     "name": "stdout",
     "output_type": "stream",
     "text": [
      "                            OLS Regression Results                            \n",
      "==============================================================================\n",
      "Dep. Variable:            Cancer Rate   R-squared:                       0.988\n",
      "Model:                            OLS   Adj. R-squared:                  0.987\n",
      "Method:                 Least Squares   F-statistic:                     1124.\n",
      "Date:                Thu, 31 Mar 2022   Prob (F-statistic):           1.82e-27\n",
      "Time:                        16:59:21   Log-Likelihood:                 130.76\n",
      "No. Observations:                  31   AIC:                            -255.5\n",
      "Df Residuals:                      28   BIC:                            -251.2\n",
      "Df Model:                           2                                         \n",
      "Covariance Type:            nonrobust                                         \n",
      "=================================================================================================\n",
      "                                    coef    std err          t      P>|t|      [0.025      0.975]\n",
      "-------------------------------------------------------------------------------------------------\n",
      "const                            -1.2652      0.087    -14.571      0.000      -1.443      -1.087\n",
      "Yearly Microplastics Emission -2.714e-06   6.88e-07     -3.944      0.000   -4.12e-06    -1.3e-06\n",
      "Mean BMI (female)                 0.0576      0.004     15.512      0.000       0.050       0.065\n",
      "==============================================================================\n",
      "Omnibus:                        0.333   Durbin-Watson:                   1.078\n",
      "Prob(Omnibus):                  0.847   Jarque-Bera (JB):                0.460\n",
      "Skew:                           0.207   Prob(JB):                        0.794\n",
      "Kurtosis:                       2.571   Cond. No.                     9.80e+05\n",
      "==============================================================================\n",
      "\n",
      "Notes:\n",
      "[1] Standard Errors assume that the covariance matrix of the errors is correctly specified.\n",
      "[2] The condition number is large, 9.8e+05. This might indicate that there are\n",
      "strong multicollinearity or other numerical problems.\n"
     ]
    },
    {
     "name": "stderr",
     "output_type": "stream",
     "text": [
      "/Users/justinaquak/opt/anaconda3/lib/python3.9/site-packages/statsmodels/tsa/tsatools.py:142: FutureWarning: In a future version of pandas all arguments of concat except for the argument 'objs' will be keyword-only\n",
      "  x = pd.concat(x[::order], 1)\n"
     ]
    }
   ],
   "source": [
    "X = df\n",
    "# X = X.reset_index().drop(columns = [\"index\",\"Year\"])\n",
    "X = X.reset_index().drop(columns = [\"index\",\"Year\",\"Time\"])\n",
    "\n",
    "# bmi df refactoring\n",
    "# female_df = female_df.drop(columns = [\"index\", \"level_0\"])\n",
    "female_df = female_df.reset_index()\n",
    "\n",
    "X = pd.concat([X, female_df], axis = 1)\n",
    "# X = X.drop(columns = [\"Year\"])\n",
    "X = X.drop(columns = [\"index\", \"Year\"])\n",
    "\n",
    "y = df_cancer['Cancer Rate']\n",
    "y = y.reset_index().drop(columns = \"index\")\n",
    "y = y.astype(float)\n",
    "\n",
    "# Define the modell\n",
    "X = sm.add_constant(X)\n",
    "model = sm.OLS(y, X)\n",
    "\n",
    "# Fit the model\n",
    "model_fit = model.fit()\n",
    "\n",
    "# Print the model summary\n",
    "print(model_fit.summary())"
   ]
  },
  {
   "cell_type": "code",
   "execution_count": 124,
   "id": "65874d82",
   "metadata": {},
   "outputs": [
    {
     "name": "stdout",
     "output_type": "stream",
     "text": [
      "                            OLS Regression Results                            \n",
      "==============================================================================\n",
      "Dep. Variable:            Cancer Rate   R-squared:                       0.993\n",
      "Model:                            OLS   Adj. R-squared:                  0.991\n",
      "Method:                 Least Squares   F-statistic:                     668.0\n",
      "Date:                Thu, 31 Mar 2022   Prob (F-statistic):           9.25e-26\n",
      "Time:                        16:59:35   Log-Likelihood:                 138.57\n",
      "No. Observations:                  31   AIC:                            -265.1\n",
      "Df Residuals:                      25   BIC:                            -256.5\n",
      "Df Model:                           5                                         \n",
      "Covariance Type:            nonrobust                                         \n",
      "=================================================================================================\n",
      "                                    coef    std err          t      P>|t|      [0.025      0.975]\n",
      "-------------------------------------------------------------------------------------------------\n",
      "const                            -0.4597      0.333     -1.382      0.179      -1.145       0.225\n",
      "Yearly Microplastics Emission -6.267e-06   1.41e-06     -4.454      0.000   -9.16e-06   -3.37e-06\n",
      "Mean BMI (female)                -0.0259      0.032     -0.820      0.420      -0.091       0.039\n",
      "AlcAmt                          3.14e-05   2.33e-05      1.349      0.189   -1.65e-05    7.93e-05\n",
      "Cig/Adult/Day                     0.0027      0.002      1.426      0.166      -0.001       0.007\n",
      "MedianAge                         0.0462      0.018      2.638      0.014       0.010       0.082\n",
      "==============================================================================\n",
      "Omnibus:                        0.769   Durbin-Watson:                   1.638\n",
      "Prob(Omnibus):                  0.681   Jarque-Bera (JB):                0.365\n",
      "Skew:                          -0.266   Prob(JB):                        0.833\n",
      "Kurtosis:                       3.017   Cond. No.                     4.61e+06\n",
      "==============================================================================\n",
      "\n",
      "Notes:\n",
      "[1] Standard Errors assume that the covariance matrix of the errors is correctly specified.\n",
      "[2] The condition number is large, 4.61e+06. This might indicate that there are\n",
      "strong multicollinearity or other numerical problems.\n"
     ]
    },
    {
     "name": "stderr",
     "output_type": "stream",
     "text": [
      "/Users/justinaquak/opt/anaconda3/lib/python3.9/site-packages/statsmodels/tsa/tsatools.py:142: FutureWarning: In a future version of pandas all arguments of concat except for the argument 'objs' will be keyword-only\n",
      "  x = pd.concat(x[::order], 1)\n"
     ]
    }
   ],
   "source": [
    "X = df\n",
    "# X = X.reset_index().drop(columns = [\"index\",\"Year\"])\n",
    "X = X.reset_index().drop(columns = [\"index\",\"Year\",\"Time\"])\n",
    "\n",
    "# bmi df refactoring\n",
    "female_df = female_df.drop(columns = [\"index\", \"level_0\"])\n",
    "female_df = female_df.reset_index()\n",
    "\n",
    "# X = pd.concat([X, bmi_df, alcohol_df], axis = 1)\n",
    "# X = pd.concat([X, female_df, alcohol_df, smoke_df], axis = 1)\n",
    "X = pd.concat([X, female_df, alcohol_df, smoke_df, age_df], axis = 1)\n",
    "X = X.drop(columns = [\"index\", \"Year\"])\n",
    "\n",
    "y = df_cancer['Cancer Rate']\n",
    "y = y.reset_index().drop(columns = \"index\")\n",
    "y = y.astype(float)\n",
    "\n",
    "# Define the modell\n",
    "X = sm.add_constant(X)\n",
    "model = sm.OLS(y, X)\n",
    "\n",
    "# Fit the model\n",
    "model_fit = model.fit()\n",
    "\n",
    "# Print the model summary\n",
    "print(model_fit.summary())"
   ]
  },
  {
   "cell_type": "code",
   "execution_count": 85,
   "id": "57badf18",
   "metadata": {},
   "outputs": [
    {
     "data": {
      "text/html": [
       "<div>\n",
       "<style scoped>\n",
       "    .dataframe tbody tr th:only-of-type {\n",
       "        vertical-align: middle;\n",
       "    }\n",
       "\n",
       "    .dataframe tbody tr th {\n",
       "        vertical-align: top;\n",
       "    }\n",
       "\n",
       "    .dataframe thead th {\n",
       "        text-align: right;\n",
       "    }\n",
       "</style>\n",
       "<table border=\"1\" class=\"dataframe\">\n",
       "  <thead>\n",
       "    <tr style=\"text-align: right;\">\n",
       "      <th></th>\n",
       "      <th>Yearly Microplastics Emission</th>\n",
       "      <th>Mean BMI (female)</th>\n",
       "      <th>AlcAmt</th>\n",
       "      <th>Cig/Adult/Day</th>\n",
       "      <th>MedianAge</th>\n",
       "      <th>Cancer Rate</th>\n",
       "    </tr>\n",
       "  </thead>\n",
       "  <tbody>\n",
       "    <tr>\n",
       "      <th>Yearly Microplastics Emission</th>\n",
       "      <td>1.000000</td>\n",
       "      <td>0.967815</td>\n",
       "      <td>0.782548</td>\n",
       "      <td>-0.890977</td>\n",
       "      <td>0.976687</td>\n",
       "      <td>0.910857</td>\n",
       "    </tr>\n",
       "    <tr>\n",
       "      <th>Mean BMI (female)</th>\n",
       "      <td>0.967815</td>\n",
       "      <td>1.000000</td>\n",
       "      <td>0.797399</td>\n",
       "      <td>-0.901344</td>\n",
       "      <td>0.998860</td>\n",
       "      <td>0.979640</td>\n",
       "    </tr>\n",
       "    <tr>\n",
       "      <th>AlcAmt</th>\n",
       "      <td>0.782548</td>\n",
       "      <td>0.797399</td>\n",
       "      <td>1.000000</td>\n",
       "      <td>-0.754475</td>\n",
       "      <td>0.805822</td>\n",
       "      <td>0.811309</td>\n",
       "    </tr>\n",
       "    <tr>\n",
       "      <th>Cig/Adult/Day</th>\n",
       "      <td>-0.890977</td>\n",
       "      <td>-0.901344</td>\n",
       "      <td>-0.754475</td>\n",
       "      <td>1.000000</td>\n",
       "      <td>-0.905182</td>\n",
       "      <td>-0.868035</td>\n",
       "    </tr>\n",
       "    <tr>\n",
       "      <th>MedianAge</th>\n",
       "      <td>0.976687</td>\n",
       "      <td>0.998860</td>\n",
       "      <td>0.805822</td>\n",
       "      <td>-0.905182</td>\n",
       "      <td>1.000000</td>\n",
       "      <td>0.975248</td>\n",
       "    </tr>\n",
       "    <tr>\n",
       "      <th>Cancer Rate</th>\n",
       "      <td>0.910857</td>\n",
       "      <td>0.979640</td>\n",
       "      <td>0.811309</td>\n",
       "      <td>-0.868035</td>\n",
       "      <td>0.975248</td>\n",
       "      <td>1.000000</td>\n",
       "    </tr>\n",
       "  </tbody>\n",
       "</table>\n",
       "</div>"
      ],
      "text/plain": [
       "                               Yearly Microplastics Emission  \\\n",
       "Yearly Microplastics Emission                       1.000000   \n",
       "Mean BMI (female)                                   0.967815   \n",
       "AlcAmt                                              0.782548   \n",
       "Cig/Adult/Day                                      -0.890977   \n",
       "MedianAge                                           0.976687   \n",
       "Cancer Rate                                         0.910857   \n",
       "\n",
       "                               Mean BMI (female)    AlcAmt  Cig/Adult/Day  \\\n",
       "Yearly Microplastics Emission           0.967815  0.782548      -0.890977   \n",
       "Mean BMI (female)                       1.000000  0.797399      -0.901344   \n",
       "AlcAmt                                  0.797399  1.000000      -0.754475   \n",
       "Cig/Adult/Day                          -0.901344 -0.754475       1.000000   \n",
       "MedianAge                               0.998860  0.805822      -0.905182   \n",
       "Cancer Rate                             0.979640  0.811309      -0.868035   \n",
       "\n",
       "                               MedianAge  Cancer Rate  \n",
       "Yearly Microplastics Emission   0.976687     0.910857  \n",
       "Mean BMI (female)               0.998860     0.979640  \n",
       "AlcAmt                          0.805822     0.811309  \n",
       "Cig/Adult/Day                  -0.905182    -0.868035  \n",
       "MedianAge                       1.000000     0.975248  \n",
       "Cancer Rate                     0.975248     1.000000  "
      ]
     },
     "execution_count": 85,
     "metadata": {},
     "output_type": "execute_result"
    }
   ],
   "source": [
    "X = X.drop(columns = \"const\")\n",
    "new = pd.DataFrame()\n",
    "new = pd.concat([X, y], axis = 1)\n",
    "new.corr()"
   ]
  },
  {
   "cell_type": "code",
   "execution_count": 89,
   "id": "abd9c90f",
   "metadata": {},
   "outputs": [
    {
     "data": {
      "text/plain": [
       "Index(['Yearly Microplastics Emission', 'Mean BMI (female)', 'AlcAmt',\n",
       "       'Cig/Adult/Day', 'MedianAge'],\n",
       "      dtype='object')"
      ]
     },
     "execution_count": 89,
     "metadata": {},
     "output_type": "execute_result"
    }
   ],
   "source": [
    "X.columns"
   ]
  },
  {
   "cell_type": "code",
   "execution_count": 130,
   "id": "78366025",
   "metadata": {},
   "outputs": [
    {
     "data": {
      "text/plain": [
       "<AxesSubplot:xlabel='Year', ylabel='Yearly Microplastics Emission'>"
      ]
     },
     "execution_count": 130,
     "metadata": {},
     "output_type": "execute_result"
    },
    {
     "data": {
      "image/png": "[encoded data removed]",
      "text/plain": [
       "<Figure size 432x288 with 1 Axes>"
      ]
     },
     "metadata": {
      "needs_background": "light"
     },
     "output_type": "display_data"
    }
   ],
   "source": [
    "sb.regplot(y=X[\"Yearly Microplastics Emission\"], x=df_cancer[\"Year\"])"
   ]
  },
  {
   "cell_type": "code",
   "execution_count": 131,
   "id": "9a37595f",
   "metadata": {},
   "outputs": [
    {
     "data": {
      "text/plain": [
       "<AxesSubplot:xlabel='Year', ylabel='Cancer Rate'>"
      ]
     },
     "execution_count": 131,
     "metadata": {},
     "output_type": "execute_result"
    },
    {
     "data": {
      "image/png": "[encoded data removed]",
      "text/plain": [
       "<Figure size 432x288 with 1 Axes>"
      ]
     },
     "metadata": {
      "needs_background": "light"
     },
     "output_type": "display_data"
    }
   ],
   "source": [
    "sb.regplot(y=y, x=df_cancer[\"Year\"])"
   ]
  }
 ],
 "metadata": {
  "kernelspec": {
   "display_name": "Python 3 (ipykernel)",
   "language": "python",
   "name": "python3"
  },
  "language_info": {
   "codemirror_mode": {
    "name": "ipython",
    "version": 3
   },
   "file_extension": ".py",
   "mimetype": "text/x-python",
   "name": "python",
   "nbconvert_exporter": "python",
   "pygments_lexer": "ipython3",
   "version": "3.9.7"
  }
 },
 "nbformat": 4,
 "nbformat_minor": 5
}
